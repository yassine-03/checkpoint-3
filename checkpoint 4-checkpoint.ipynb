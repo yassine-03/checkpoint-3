{
 "cells": [
  {
   "cell_type": "code",
   "execution_count": 1,
   "id": "2874d72a",
   "metadata": {},
   "outputs": [
    {
     "name": "stdout",
     "output_type": "stream",
     "text": [
      "36\n"
     ]
    }
   ],
   "source": [
    "l=[2,3,6]\n",
    "c= l[0] * l[1] * l[2]\n",
    "\n",
    "print(c)"
   ]
  },
  {
   "cell_type": "code",
   "execution_count": 2,
   "id": "78a024b8",
   "metadata": {},
   "outputs": [
    {
     "data": {
      "text/plain": [
       "[(2, 1), (1, 2), (2, 3), (4, 4), (2, 5)]"
      ]
     },
     "execution_count": 2,
     "metadata": {},
     "output_type": "execute_result"
    }
   ],
   "source": [
    "l=[(2,5),(1,2),(4,4),(2,3),(2,1)]\n",
    "def last (n):\n",
    "    return n[-1]\n",
    "def sort (l):\n",
    "    return sorted (l, key=last)\n",
    "sort (l)"
   ]
  },
  {
   "cell_type": "code",
   "execution_count": 3,
   "id": "e436e8df",
   "metadata": {},
   "outputs": [
    {
     "name": "stdout",
     "output_type": "stream",
     "text": [
      "{'a': 400, 'b': 400, 'd': 400, 'c': 300}\n"
     ]
    }
   ],
   "source": [
    "d1 = {'a': 100, 'b': 200, 'c':300}\n",
    "d2 = {'a': 300, 'b': 200, 'd':400}\n",
    "for key in d1:\n",
    "    if key in d2:\n",
    "        d2[key] = d1[key] + d2[key]\n",
    "    else:\n",
    "        d2[key] = d1[key]\n",
    "        \n",
    "print(d2)"
   ]
  },
  {
   "cell_type": "code",
   "execution_count": 4,
   "id": "62f6ae65",
   "metadata": {},
   "outputs": [
    {
     "name": "stdout",
     "output_type": "stream",
     "text": [
      "{1: 1, 2: 4, 3: 9, 4: 16, 5: 25, 6: 36, 7: 49, 8: 64}\n"
     ]
    }
   ],
   "source": [
    "d = dict ()\n",
    "for i in range (1,9):\n",
    "    d[i] = i*i\n",
    "print(d)"
   ]
  },
  {
   "cell_type": "code",
   "execution_count": 5,
   "id": "5a761c40",
   "metadata": {},
   "outputs": [
    {
     "data": {
      "text/plain": [
       "[('item3', '24.5'), ('item2', '15.10'), ('item1', '12.20')]"
      ]
     },
     "execution_count": 5,
     "metadata": {},
     "output_type": "execute_result"
    }
   ],
   "source": [
    "list= [('item1', '12.20'), ('item2', '15.10'), ('item3', '24.5')]\n",
    "sorted (list , key = lambda x : float (x[1]),reverse = True)"
   ]
  },
  {
   "cell_type": "code",
   "execution_count": null,
   "id": "5895aea6",
   "metadata": {},
   "outputs": [],
   "source": []
  }
 ],
 "metadata": {
  "kernelspec": {
   "display_name": "Python 3 (ipykernel)",
   "language": "python",
   "name": "python3"
  },
  "language_info": {
   "codemirror_mode": {
    "name": "ipython",
    "version": 3
   },
   "file_extension": ".py",
   "mimetype": "text/x-python",
   "name": "python",
   "nbconvert_exporter": "python",
   "pygments_lexer": "ipython3",
   "version": "3.9.7"
  }
 },
 "nbformat": 4,
 "nbformat_minor": 5
}
